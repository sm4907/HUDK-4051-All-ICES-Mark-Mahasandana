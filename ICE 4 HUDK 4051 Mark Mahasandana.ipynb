{
 "cells": [
  {
   "cell_type": "code",
   "execution_count": 1,
   "id": "6b7b030a",
   "metadata": {},
   "outputs": [],
   "source": [
    "import pandas as pd\n",
    "import numpy as np\n",
    "import matplotlib.pyplot as plt"
   ]
  },
  {
   "cell_type": "code",
   "execution_count": 3,
   "id": "3b961e4f",
   "metadata": {},
   "outputs": [
    {
     "data": {
      "text/html": [
       "<div>\n",
       "<style scoped>\n",
       "    .dataframe tbody tr th:only-of-type {\n",
       "        vertical-align: middle;\n",
       "    }\n",
       "\n",
       "    .dataframe tbody tr th {\n",
       "        vertical-align: top;\n",
       "    }\n",
       "\n",
       "    .dataframe thead th {\n",
       "        text-align: right;\n",
       "    }\n",
       "</style>\n",
       "<table border=\"1\" class=\"dataframe\">\n",
       "  <thead>\n",
       "    <tr style=\"text-align: right;\">\n",
       "      <th></th>\n",
       "      <th>difficulty</th>\n",
       "      <th>interest</th>\n",
       "    </tr>\n",
       "  </thead>\n",
       "  <tbody>\n",
       "    <tr>\n",
       "      <th>prediction</th>\n",
       "      <td>3.807692</td>\n",
       "      <td>4.326923</td>\n",
       "    </tr>\n",
       "    <tr>\n",
       "      <th>nlp</th>\n",
       "      <td>4.220000</td>\n",
       "      <td>4.431373</td>\n",
       "    </tr>\n",
       "    <tr>\n",
       "      <th>sna</th>\n",
       "      <td>3.769231</td>\n",
       "      <td>4.134615</td>\n",
       "    </tr>\n",
       "    <tr>\n",
       "      <th>neural</th>\n",
       "      <td>4.400000</td>\n",
       "      <td>4.490196</td>\n",
       "    </tr>\n",
       "    <tr>\n",
       "      <th>viz</th>\n",
       "      <td>4.060000</td>\n",
       "      <td>4.596154</td>\n",
       "    </tr>\n",
       "    <tr>\n",
       "      <th>loop</th>\n",
       "      <td>4.080000</td>\n",
       "      <td>4.431373</td>\n",
       "    </tr>\n",
       "    <tr>\n",
       "      <th>sql</th>\n",
       "      <td>3.693878</td>\n",
       "      <td>4.431373</td>\n",
       "    </tr>\n",
       "  </tbody>\n",
       "</table>\n",
       "</div>"
      ],
      "text/plain": [
       "            difficulty  interest\n",
       "prediction    3.807692  4.326923\n",
       "nlp           4.220000  4.431373\n",
       "sna           3.769231  4.134615\n",
       "neural        4.400000  4.490196\n",
       "viz           4.060000  4.596154\n",
       "loop          4.080000  4.431373\n",
       "sql           3.693878  4.431373"
      ]
     },
     "execution_count": 3,
     "metadata": {},
     "output_type": "execute_result"
    }
   ],
   "source": [
    "ICE4 = pd.read_csv('ICE44051.csv', index_col=0)\n",
    "ICE4"
   ]
  },
  {
   "cell_type": "code",
   "execution_count": 5,
   "id": "10faf980",
   "metadata": {},
   "outputs": [
    {
     "data": {
      "image/png": "[encoded data removed]",
      "text/plain": [
       "<Figure size 432x288 with 1 Axes>"
      ]
     },
     "metadata": {
      "needs_background": "light"
     },
     "output_type": "display_data"
    }
   ],
   "source": [
    "plt.scatter(ICE4.difficulty, ICE4.interest)\n",
    "\n",
    "for i, index in enumerate (ICE4.index):\n",
    "    plt.text(ICE4.difficulty[i]+0.01, ICE4.interest[i]+0.01, index)\n",
    "\n",
    "plt.xlim (3.5, 4.7)\n",
    "plt.ylim (4.0, 4.7)\n",
    "plt.xlabel(\"difficulty\")\n",
    "plt.ylabel(\"interest\");"
   ]
  },
  {
   "cell_type": "code",
   "execution_count": 6,
   "id": "e1163710",
   "metadata": {},
   "outputs": [],
   "source": [
    "import math\n",
    "\n",
    "ICE4_distance = ICE4.copy()\n",
    "ICE4_distance['distance'] = 0\n",
    "\n",
    "item = ICE4_distance.loc['prediction',]\n",
    "\n",
    "for i in ICE4_distance.index:\n",
    "    target = ICE4_distance.loc[i,]\n",
    "    d = math.dist(item, target)\n",
    "    ICE4_distance.loc[i, 'distance'] = d"
   ]
  },
  {
   "cell_type": "code",
   "execution_count": 7,
   "id": "18cd6651",
   "metadata": {},
   "outputs": [
    {
     "data": {
      "text/html": [
       "<div>\n",
       "<style scoped>\n",
       "    .dataframe tbody tr th:only-of-type {\n",
       "        vertical-align: middle;\n",
       "    }\n",
       "\n",
       "    .dataframe tbody tr th {\n",
       "        vertical-align: top;\n",
       "    }\n",
       "\n",
       "    .dataframe thead th {\n",
       "        text-align: right;\n",
       "    }\n",
       "</style>\n",
       "<table border=\"1\" class=\"dataframe\">\n",
       "  <thead>\n",
       "    <tr style=\"text-align: right;\">\n",
       "      <th></th>\n",
       "      <th>difficulty</th>\n",
       "      <th>interest</th>\n",
       "      <th>distance</th>\n",
       "    </tr>\n",
       "  </thead>\n",
       "  <tbody>\n",
       "    <tr>\n",
       "      <th>prediction</th>\n",
       "      <td>3.807692</td>\n",
       "      <td>4.326923</td>\n",
       "      <td>0.000000</td>\n",
       "    </tr>\n",
       "    <tr>\n",
       "      <th>sql</th>\n",
       "      <td>3.693878</td>\n",
       "      <td>4.431373</td>\n",
       "      <td>0.154478</td>\n",
       "    </tr>\n",
       "    <tr>\n",
       "      <th>sna</th>\n",
       "      <td>3.769231</td>\n",
       "      <td>4.134615</td>\n",
       "      <td>0.196116</td>\n",
       "    </tr>\n",
       "    <tr>\n",
       "      <th>loop</th>\n",
       "      <td>4.080000</td>\n",
       "      <td>4.431373</td>\n",
       "      <td>0.291652</td>\n",
       "    </tr>\n",
       "    <tr>\n",
       "      <th>viz</th>\n",
       "      <td>4.060000</td>\n",
       "      <td>4.596154</td>\n",
       "      <td>0.368977</td>\n",
       "    </tr>\n",
       "    <tr>\n",
       "      <th>nlp</th>\n",
       "      <td>4.220000</td>\n",
       "      <td>4.431373</td>\n",
       "      <td>0.425332</td>\n",
       "    </tr>\n",
       "    <tr>\n",
       "      <th>neural</th>\n",
       "      <td>4.400000</td>\n",
       "      <td>4.490196</td>\n",
       "      <td>0.614399</td>\n",
       "    </tr>\n",
       "  </tbody>\n",
       "</table>\n",
       "</div>"
      ],
      "text/plain": [
       "            difficulty  interest  distance\n",
       "prediction    3.807692  4.326923  0.000000\n",
       "sql           3.693878  4.431373  0.154478\n",
       "sna           3.769231  4.134615  0.196116\n",
       "loop          4.080000  4.431373  0.291652\n",
       "viz           4.060000  4.596154  0.368977\n",
       "nlp           4.220000  4.431373  0.425332\n",
       "neural        4.400000  4.490196  0.614399"
      ]
     },
     "execution_count": 7,
     "metadata": {},
     "output_type": "execute_result"
    }
   ],
   "source": [
    "ICE4_distance.sort_values('distance', ascending=True)"
   ]
  },
  {
   "cell_type": "code",
   "execution_count": 8,
   "id": "b37d23b5",
   "metadata": {},
   "outputs": [
    {
     "data": {
      "text/plain": [
       "array([[1.        , 0.99922723, 0.99984605, 0.99856397, 0.99999823,\n",
       "        0.99974724, 0.99964159],\n",
       "       [0.99922723, 1.        , 0.99976308, 0.99989801, 0.99929948,\n",
       "        0.99985835, 0.99781682],\n",
       "       [0.99984605, 0.99976308, 1.        , 0.99935025, 0.99987732,\n",
       "        0.99998782, 0.99901794],\n",
       "       [0.99856397, 0.99989801, 0.99935025, 1.        , 0.99866309,\n",
       "        0.999516  , 0.99677186],\n",
       "       [0.99999823, 0.99929948, 0.99987732, 0.99866309, 1.        ,\n",
       "        0.99978781, 0.99958939],\n",
       "       [0.99974724, 0.99985835, 0.99998782, 0.999516  , 0.99978781,\n",
       "        1.        , 0.99878705],\n",
       "       [0.99964159, 0.99781682, 0.99901794, 0.99677186, 0.99958939,\n",
       "        0.99878705, 1.        ]])"
      ]
     },
     "execution_count": 8,
     "metadata": {},
     "output_type": "execute_result"
    }
   ],
   "source": [
    "from sklearn.metrics.pairwise import cosine_similarity\n",
    "\n",
    "cosine_sim = cosine_similarity(ICE4)\n",
    "cosine_sim"
   ]
  },
  {
   "cell_type": "code",
   "execution_count": 9,
   "id": "538d535f",
   "metadata": {},
   "outputs": [
    {
     "data": {
      "text/plain": [
       "prediction    0\n",
       "nlp           1\n",
       "sna           2\n",
       "neural        3\n",
       "viz           4\n",
       "loop          5\n",
       "sql           6\n",
       "dtype: int64"
      ]
     },
     "execution_count": 9,
     "metadata": {},
     "output_type": "execute_result"
    }
   ],
   "source": [
    "module_indices = pd.Series(range(len(ICE4.index)), index = ICE4.index)\n",
    "\n",
    "module_indices"
   ]
  },
  {
   "cell_type": "code",
   "execution_count": 10,
   "id": "06927605",
   "metadata": {},
   "outputs": [],
   "source": [
    "def get_recommendations(name, cosine_sim, matrix_indices):\n",
    "    idx = matrix_indices[name]\n",
    "    sim_scores = list(enumerate(cosine_sim[idx]))\n",
    "    sim_scores = sorted(sim_scores, key=lambda x: x[1], reverse=True)\n",
    "    sim_scores = sim_scores[1:6]\n",
    "    rank_indices = [i[0] for i in sim_scores]\n",
    "    return matrix_indices.iloc[rank_indices]"
   ]
  },
  {
   "cell_type": "code",
   "execution_count": 11,
   "id": "b7cd0fdc",
   "metadata": {},
   "outputs": [
    {
     "data": {
      "text/plain": [
       "viz     4\n",
       "sna     2\n",
       "loop    5\n",
       "sql     6\n",
       "nlp     1\n",
       "dtype: int64"
      ]
     },
     "execution_count": 11,
     "metadata": {},
     "output_type": "execute_result"
    }
   ],
   "source": [
    "get_recommendations(\"prediction\", cosine_sim, module_indices)"
   ]
  }
 ],
 "metadata": {
  "kernelspec": {
   "display_name": "Python 3",
   "language": "python",
   "name": "python3"
  },
  "language_info": {
   "codemirror_mode": {
    "name": "ipython",
    "version": 3
   },
   "file_extension": ".py",
   "mimetype": "text/x-python",
   "name": "python",
   "nbconvert_exporter": "python",
   "pygments_lexer": "ipython3",
   "version": "3.8.8"
  }
 },
 "nbformat": 4,
 "nbformat_minor": 5
}

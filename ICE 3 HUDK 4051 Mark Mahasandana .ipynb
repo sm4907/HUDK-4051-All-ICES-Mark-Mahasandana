{
 "cells": [
  {
   "cell_type": "code",
   "execution_count": 19,
   "id": "b1333d0e",
   "metadata": {},
   "outputs": [],
   "source": [
    "import pandas as pd\n",
    "from pprint import pprint\n",
    "import pystan\n",
    "from scipy.special import expit\n",
    "from matplotlib import pyplot as plt\n",
    "from numpy.random import normal, randint, binomial, choice\n",
    "from numpy import percentile, concatenate, array, linspace, append\n",
    "%matplotlib inline"
   ]
  },
  {
   "cell_type": "code",
   "execution_count": 4,
   "id": "7245faa0",
   "metadata": {},
   "outputs": [
    {
     "data": {
      "text/plain": [
       "Text(0.5, 1.0, 'The logistic function')"
      ]
     },
     "execution_count": 4,
     "metadata": {},
     "output_type": "execute_result"
    },
    {
     "data": {
      "image/png": "[encoded data removed]",
      "text/plain": [
       "<Figure size 432x288 with 1 Axes>"
      ]
     },
     "metadata": {
      "needs_background": "light"
     },
     "output_type": "display_data"
    }
   ],
   "source": [
    "x_axis = linspace(-10, 10, 100)\n",
    "plt.plot(x_axis, expit(x_axis))\n",
    "plt.xlabel('x')\n",
    "plt.xlim([-6, 6])\n",
    "plt.ylabel('logistic(x)')\n",
    "plt.title('The logistic function', fontsize=15)"
   ]
  },
  {
   "cell_type": "code",
   "execution_count": 8,
   "id": "6fb63bc8",
   "metadata": {},
   "outputs": [
    {
     "name": "stdout",
     "output_type": "stream",
     "text": [
      "Here is our randomly generated data:\n",
      "{'I': 15,\n",
      " 'R': 10000,\n",
      " 'S': 15,\n",
      " 'grade': array([1, 1, 1, ..., 1, 1, 0]),\n",
      " 'item': array([ 8, 12,  2, ...,  3,  3, 13]),\n",
      " 'subject': array([14, 14, 14, ...,  3,  9, 11])}\n"
     ]
    }
   ],
   "source": [
    "def generate_binary_irt_data(sim_input):\n",
    "    sim_ability = normal(loc=0,\n",
    "                         scale=sim_input['sigma_ability'],\n",
    "                         size=sim_input['S'])\n",
    "    sim_difficulty = normal(loc=sim_input['mu_difficulty'],\n",
    "                            scale=sim_input['sigma_difficulty'],\n",
    "                            size=sim_input['I'])\n",
    "    sim_subject = randint(low=0,\n",
    "                          high=sim_input['S'],\n",
    "                          size=sim_input['R'])\n",
    "    sim_item = randint(low=0,\n",
    "                       high=sim_input['I'],\n",
    "                       size=sim_input['R'])\n",
    "    sim_success_probabilities = expit(sim_ability[sim_subject] -\n",
    "                                      sim_difficulty[sim_item])\n",
    "    sim_grade = binomial(n=1,\n",
    "                         p=sim_success_probabilities,\n",
    "                         size=sim_input['R'])\n",
    "    sim_data = {\n",
    "        'grade': sim_grade,\n",
    "        'subject': sim_subject + 1,\n",
    "        'item': sim_item + 1,\n",
    "    }\n",
    "    sim_data.update({i: binary_sim_input[i] for i in ['R', 'I', 'S']})\n",
    "    recoverables = {\n",
    "        'ability': sim_ability,\n",
    "        'difficulty': sim_difficulty,\n",
    "    }\n",
    "    recoverables.update({i: binary_sim_input[i] for i in ['sigma_ability',\n",
    "                                                          'mu_difficulty',\n",
    "                                                          'sigma_difficulty']})\n",
    "    return sim_data, recoverables\n",
    "\n",
    "binary_sim_input = {'R': 10000,\n",
    "                    'I': 15,\n",
    "                    'S': 15,\n",
    "                    'sigma_ability': 1,\n",
    "                    'sigma_difficulty': 2,\n",
    "                    'mu_difficulty': -1}\n",
    "binary_sim_data, binary_sim_recoverables = generate_binary_irt_data(binary_sim_input)\n",
    "print('Here is our randomly generated data:')\n",
    "pprint(binary_sim_data) "
   ]
  }
 ],
 "metadata": {
  "kernelspec": {
   "display_name": "Python 3",
   "language": "python",
   "name": "python3"
  },
  "language_info": {
   "codemirror_mode": {
    "name": "ipython",
    "version": 3
   },
   "file_extension": ".py",
   "mimetype": "text/x-python",
   "name": "python",
   "nbconvert_exporter": "python",
   "pygments_lexer": "ipython3",
   "version": "3.8.8"
  }
 },
 "nbformat": 4,
 "nbformat_minor": 5
}
